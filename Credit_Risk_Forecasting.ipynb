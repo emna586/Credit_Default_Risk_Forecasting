{
  "nbformat": 4,
  "nbformat_minor": 0,
  "metadata": {
    "colab": {
      "provenance": []
    },
    "kernelspec": {
      "name": "python3",
      "display_name": "Python 3"
    },
    "language_info": {
      "name": "python"
    }
  },
  "cells": [
    {
      "cell_type": "code",
      "execution_count": 1,
      "metadata": {
        "colab": {
          "base_uri": "https://localhost:8080/"
        },
        "id": "5W20UEZulupF",
        "outputId": "2a54943f-2ad8-4d1a-e7ed-ae82e4546b7d"
      },
      "outputs": [
        {
          "output_type": "stream",
          "name": "stdout",
          "text": [
            "Les données sont chargées et divisées avec succès.\n"
          ]
        }
      ],
      "source": [
        "import pandas as pd\n",
        "from sklearn.model_selection import train_test_split\n",
        "from sklearn.preprocessing import StandardScaler\n",
        "from sklearn.ensemble import RandomForestClassifier\n",
        "from sklearn.metrics import f1_score\n",
        "from sklearn.datasets import load_breast_cancer\n",
        "\n",
        "# Chargement des données (simulant les données de risque de crédit)\n",
        "data = load_breast_cancer(as_frame=True)\n",
        "X = data.data\n",
        "y = data.target\n",
        "\n",
        "# Séparation des données\n",
        "X_train, X_test, y_train, y_test = train_test_split(X, y, test_size=0.2, random_state=42)\n",
        "\n",
        "print(\"Les données sont chargées et divisées avec succès.\")"
      ]
    },
    {
      "cell_type": "code",
      "source": [
        "scaler = StandardScaler()\n",
        "X_train_scaled = scaler.fit_transform(X_train)\n",
        "X_test_scaled = scaler.transform(X_test)\n",
        "print(\"Mise à l'échelle (scaling) appliquée avec succès.\")"
      ],
      "metadata": {
        "colab": {
          "base_uri": "https://localhost:8080/"
        },
        "id": "TZn6aiLpl58F",
        "outputId": "3690286c-e50f-40ba-bf53-d6a4ba7423d1"
      },
      "execution_count": 2,
      "outputs": [
        {
          "output_type": "stream",
          "name": "stdout",
          "text": [
            "Mise à l'échelle (scaling) appliquée avec succès.\n"
          ]
        }
      ]
    },
    {
      "cell_type": "code",
      "source": [
        "# Modèle : RandomForestClassifier, idéal pour les problèmes de risque\n",
        "model = RandomForestClassifier(n_estimators=100, random_state=42, max_depth=10, min_samples_split=5)\n",
        "model.fit(X_train_scaled, y_train)\n",
        "print(\"Entraînement du modèle de prédiction de risque terminé.\")"
      ],
      "metadata": {
        "colab": {
          "base_uri": "https://localhost:8080/"
        },
        "id": "duIWXfcll7xA",
        "outputId": "93e1eba4-d8aa-45ed-8651-d3ae22d6e71f"
      },
      "execution_count": 3,
      "outputs": [
        {
          "output_type": "stream",
          "name": "stdout",
          "text": [
            "Entraînement du modèle de prédiction de risque terminé.\n"
          ]
        }
      ]
    },
    {
      "cell_type": "code",
      "source": [
        "# Faire des prédictions et calculer le F1-score\n",
        "y_pred = model.predict(X_test_scaled)\n",
        "final_f1_score = f1_score(y_test, y_pred, average='weighted')\n",
        "\n",
        "# Afficher les résultats\n",
        "print(\"-\" * 60)\n",
        "print(\"RÉSULTATS FINAUX DU MODÈLE DE PRÉDICTION DE RISQUE\")\n",
        "print(f\"Modèle utilisé: RandomForestClassifier\")\n",
        "print(f\"Score F1 (F1-Score) sur les données de test: {final_f1_score:.4f}\")\n",
        "print(\"-\" * 60)"
      ],
      "metadata": {
        "colab": {
          "base_uri": "https://localhost:8080/"
        },
        "id": "fx0pyo4OmAX1",
        "outputId": "97245969-1f95-41d5-a948-a8d9a18bdfe7"
      },
      "execution_count": 4,
      "outputs": [
        {
          "output_type": "stream",
          "name": "stdout",
          "text": [
            "------------------------------------------------------------\n",
            "RÉSULTATS FINAUX DU MODÈLE DE PRÉDICTION DE RISQUE\n",
            "Modèle utilisé: RandomForestClassifier\n",
            "Score F1 (F1-Score) sur les données de test: 0.9647\n",
            "------------------------------------------------------------\n"
          ]
        }
      ]
    }
  ]
}